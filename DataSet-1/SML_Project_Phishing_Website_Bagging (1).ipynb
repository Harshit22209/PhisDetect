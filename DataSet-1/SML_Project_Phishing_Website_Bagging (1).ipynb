{
  "nbformat": 4,
  "nbformat_minor": 0,
  "metadata": {
    "colab": {
      "provenance": []
    },
    "kernelspec": {
      "name": "python3",
      "display_name": "Python 3"
    },
    "language_info": {
      "name": "python"
    }
  },
  "cells": [
    {
      "cell_type": "code",
      "execution_count": 2,
      "metadata": {
        "colab": {
          "base_uri": "https://localhost:8080/"
        },
        "id": "IvzgkGfKSVSr",
        "outputId": "db50b1de-6d08-40bd-ba4c-af2a2cac174e"
      },
      "outputs": [
        {
          "output_type": "stream",
          "name": "stdout",
          "text": [
            "   length_url  length_hostname  ip  nb_dots  nb_hyphens  nb_at  nb_qm  nb_and  \\\n",
            "0          37               19   0        3           0      0      0       0   \n",
            "1          77               23   1        1           0      0      0       0   \n",
            "2         126               50   1        4           1      0      1       2   \n",
            "3          18               11   0        2           0      0      0       0   \n",
            "4          55               15   0        2           2      0      0       0   \n",
            "\n",
            "   nb_or  nb_eq  ...  domain_in_title  domain_with_copyright  \\\n",
            "0      0      0  ...                0                      1   \n",
            "1      0      0  ...                1                      0   \n",
            "2      0      3  ...                1                      0   \n",
            "3      0      0  ...                1                      0   \n",
            "4      0      0  ...                0                      1   \n",
            "\n",
            "   whois_registered_domain  domain_registration_length  domain_age  \\\n",
            "0                        0                          45          -1   \n",
            "1                        0                          77        5767   \n",
            "2                        0                          14        4004   \n",
            "3                        0                          62          -1   \n",
            "4                        0                         224        8175   \n",
            "\n",
            "   web_traffic  dns_record  google_index  page_rank      status  \n",
            "0            0           1             1          4  legitimate  \n",
            "1            0           0             1          2    phishing  \n",
            "2      5828815           0             1          0    phishing  \n",
            "3       107721           0             0          3  legitimate  \n",
            "4         8725           0             0          6  legitimate  \n",
            "\n",
            "[5 rows x 88 columns]\n"
          ]
        }
      ],
      "source": [
        "import matplotlib.pyplot as plt\n",
        "import numpy as np\n",
        "import pandas as pd\n",
        "data=pd.read_csv('/content/drive/MyDrive/datasets/dataset_B_05_2020.csv')\n",
        "data=data.drop(['url'],axis=1)\n",
        "print(data.head())\n",
        "\n",
        "# x=np.array(data.drop(['status'],axis=1))\n",
        "# y=data['status']\n",
        "# y=[1 if y[i]=='legitimate' else -1 for i in range(len(y))]\n",
        "# y=np.array(y)\n",
        "# print(len(x[y==1]),len(x[y==-1]))\n",
        "# train_x=x[y==1][1000:]\n",
        "# train_x=np.append(train_x,x[y==-1][1000:],axis=0)\n",
        "# train_y=x[y==0][1000:]\n"
      ]
    },
    {
      "cell_type": "code",
      "source": [
        "from google.colab import drive\n",
        "drive.mount('/content/drive')"
      ],
      "metadata": {
        "colab": {
          "base_uri": "https://localhost:8080/"
        },
        "id": "B_CSdGUgSJGE",
        "outputId": "45f414d1-9571-48ee-f5a2-beeee0d04831"
      },
      "execution_count": 1,
      "outputs": [
        {
          "output_type": "stream",
          "name": "stdout",
          "text": [
            "Mounted at /content/drive\n"
          ]
        }
      ]
    },
    {
      "cell_type": "code",
      "source": [],
      "metadata": {
        "id": "iuQBfrlVcoVv"
      },
      "execution_count": null,
      "outputs": []
    },
    {
      "cell_type": "code",
      "source": [
        "from sklearn.model_selection import train_test_split\n",
        "X_train, X_test, y_train, y_test = train_test_split(data.drop('status', axis=1), data['status'], test_size=0.2, random_state=42, stratify=data['status'])\n"
      ],
      "metadata": {
        "id": "dT2Qpe4jccQK"
      },
      "execution_count": 3,
      "outputs": []
    },
    {
      "cell_type": "code",
      "source": [
        "variances = np.var(X_train-np.mean(X_train), axis=0)\n",
        "\n",
        "print(\"Variance for each dimension:\", variances)"
      ],
      "metadata": {
        "colab": {
          "base_uri": "https://localhost:8080/"
        },
        "id": "CnYmrCP2gz9t",
        "outputId": "c29d0dd8-19ac-4eb5-ae2b-ab0948e60483"
      },
      "execution_count": 4,
      "outputs": [
        {
          "output_type": "stream",
          "name": "stdout",
          "text": [
            "Variance for each dimension: length_url         3.188433e+03\n",
            "length_hostname    1.073398e+02\n",
            "ip                 1.267640e-01\n",
            "nb_dots            1.924850e+00\n",
            "nb_hyphens         4.084721e+00\n",
            "                       ...     \n",
            "domain_age         9.598391e+06\n",
            "web_traffic        4.036886e+12\n",
            "dns_record         1.971757e-02\n",
            "google_index       2.490690e-01\n",
            "page_rank          6.405836e+00\n",
            "Length: 87, dtype: float64\n"
          ]
        }
      ]
    },
    {
      "cell_type": "code",
      "source": [
        "print(\"Train set shape:\", X_train.shape, X_test.shape)\n",
        "y_train=np.array(y_train)\n",
        "y_test=np.array(y_test)\n",
        "y_train=np.array([1 if y_train[i]=='legitimate' else 0 for i in range(len(y_train))])\n",
        "y_test=np.array([1 if y_test[i]=='legitimate' else 0 for i in range(len(y_test))])\n",
        "X_train=np.array(X_train)\n",
        "X_test=np.array(X_test)\n",
        "print(\"Test set shape:\",y_train.shape, y_test.shape)\n",
        "print(\"Train set shape:\", X_train.shape, X_test.shape)\n",
        "\n",
        "x_train_t=X_train.T"
      ],
      "metadata": {
        "id": "v0bvB82FsRzd",
        "colab": {
          "base_uri": "https://localhost:8080/"
        },
        "outputId": "2e3dae28-1718-49da-a6f0-e42c4c95aff1"
      },
      "execution_count": 6,
      "outputs": [
        {
          "output_type": "stream",
          "name": "stdout",
          "text": [
            "Train set shape: (9144, 87) (2286, 87)\n",
            "Test set shape: (9144,) (2286,)\n",
            "Train set shape: (9144, 87) (2286, 87)\n"
          ]
        }
      ]
    },
    {
      "cell_type": "code",
      "source": [
        "print(y_test)\n",
        "print(y_train)"
      ],
      "metadata": {
        "id": "D5dqdbC_mM_I",
        "outputId": "0d44dc39-a3e3-45c5-96e1-b354a0dc9bbe",
        "colab": {
          "base_uri": "https://localhost:8080/"
        }
      },
      "execution_count": 7,
      "outputs": [
        {
          "output_type": "stream",
          "name": "stdout",
          "text": [
            "[0 0 0 ... 1 1 1]\n",
            "[1 0 0 ... 0 0 0]\n"
          ]
        }
      ]
    },
    {
      "cell_type": "code",
      "source": [
        "regions=[]\n",
        "for i in range(len(x_train_t)):\n",
        "  regions.append([min(x_train_t[i]),max(x_train_t[i])])\n",
        "\n",
        "print(regions)\n",
        "boundaries=[]\n",
        "def validPointForTrain(obj,regions):\n",
        "  for i in range(len(regions)):\n",
        "    # print(obj[i],regions[i][0],regions[i][1])\n",
        "    if obj[i]<regions[i][0] or obj[i] > regions[i][1]:\n",
        "      return False\n",
        "  return True\n",
        "def validPointForTest(obj,regions):\n",
        "\n",
        "  for i in regions:\n",
        "    # print(obj[i],regions[i][0],regions[i][1])\n",
        "    #(dim,mid,l/r)\n",
        "    if (i[2]=='l' and obj[i[0]] > i[1]):\n",
        "      return False\n",
        "    if (i[2]=='r' and obj[i[0]] < i[1]):\n",
        "      return False\n",
        "  return True\n",
        "intvls=[]\n",
        "def learn_tree(y,yT,data,nodes,lab,dim,regions,decisions,boundaries):\n",
        "  # print(nodes)\n",
        "  min_g=()\n",
        "  for j in range(dim):\n",
        "    d=y[j]\n",
        "    sorted_d=sorted(d)\n",
        "    me=0\n",
        "    cnt=0\n",
        "    x=(regions[j][0]+regions[j][1])/2\n",
        "    # print(x)\n",
        "    # print(regions[j][0],regions[j][1],x)\n",
        "\n",
        "    p=[0,0]\n",
        "    q=[0,0]\n",
        "    for k in range(len(lab)):\n",
        "      if not validPointForTest(yT[k],boundaries):\n",
        "        continue\n",
        "        # print(k)\n",
        "        # return\n",
        "      if yT[k][j]<x:\n",
        "        p[lab[k]]+=1\n",
        "      else:\n",
        "        q[lab[k]]+=1\n",
        "    # print(\"lengths:\",len(p),len(q))\n",
        "    # print(p,x)\n",
        "    # print(p,q)\n",
        "    ps=sum(p)\n",
        "    qs=sum(q)\n",
        "    # if(ps==0 and qs==0 ):\n",
        "    #   print(p,q)\n",
        "    #   continue\n",
        "    # print(p,q)\n",
        "    gp=0\n",
        "    gq=0\n",
        "    # print(len(p),len(q),ps,qs)\n",
        "    for k in range(2):\n",
        "      p[k]/=1 if ps==0 else ps\n",
        "      # print(ps,qs,k)\n",
        "      q[k]/=1 if qs==0 else qs\n",
        "      gp+=p[k]*(1-p[k])\n",
        "      gq+=q[k]*(1-q[k])\n",
        "    g=(gp*ps+gq*qs)/(ps+qs)\n",
        "    pi=0\n",
        "    pv=p[0]\n",
        "    qi=0\n",
        "    qv=q[0]\n",
        "    for k in range(1,2):\n",
        "      if p[k]>pv:\n",
        "        pv=p[k]\n",
        "        pi=k\n",
        "      if q[k]>qv:\n",
        "        qv=q[k]\n",
        "        qi=k\n",
        "    if j==0 or g<min_g[0]:\n",
        "      min_g=(g,j,gp,gq,pi,qi,x)\n",
        "  b1=[i for i in boundaries]\n",
        "\n",
        "\n",
        "\n",
        "  b1.append((min_g[1],min_g[-1],'l'))\n",
        "  # print(\"min_g\",min_g,nodes)\n",
        "  b2=[i for i in boundaries]\n",
        "  b2.append((min_g[1],min_g[-1],'r'))\n",
        "\n",
        "  r1=[[i,j] for i,j in regions]\n",
        "  r2=[[i,j] for i,j in regions]\n",
        "  r1[min_g[1]][1]=min_g[-1]\n",
        "  r2[min_g[1]][0]=min_g[-1]+1\n",
        "  if(nodes==2):\n",
        "\n",
        "    decisions.append((b2,min_g[5]))\n",
        "    decisions.append((b1,min_g[4]))\n",
        "\n",
        "    return\n",
        "  # return\n",
        "  # print(min_g)\n",
        "  if(min_g[2]<min_g[3]):\n",
        "    decisions.append((b1,min_g[4]))\n",
        "    # decisions.append((b2,min_g[5]))\n",
        "\n",
        "    learn_tree(y,yT,data,nodes-1,lab,dim,r2,decisions,b2)\n",
        "    # learn_tree(y,yT,data,nodes-1,lab,10,r1,decisions,b1)\n",
        "\n",
        "  else:\n",
        "    decisions.append((b2,min_g[5]))\n",
        "    # decisions.append((b2,min_g[5]))\n",
        "\n",
        "    learn_tree(y,yT,data,nodes-1,lab,dim,r1,decisions,b1)\n",
        "\n",
        "decisions=[]\n",
        "boundaries=[]\n",
        "learn_tree(x_train_t,X_train,data,10,y_train,len(x_train_t),regions,decisions,boundaries)\n",
        "print(decisions)\n",
        "# print([i[1] for i in decisions])\n",
        "totals=[0,0]\n",
        "corrects=[0,0]\n",
        "def find_class(decisions,elem):\n",
        "  ans=-1\n",
        "  for i in decisions:\n",
        "    if validPointForTest(elem,i[0]):\n",
        "      ans=i[1]\n",
        "  if(ans==-1):\n",
        "    print(ans)\n",
        "  return ans\n",
        "# decisions.append(([(85, 0.5, 'r')], 0))\n",
        "# print(test_y.shape,test_labls.shape)\n",
        "\n"
      ],
      "metadata": {
        "id": "0s9P_klfrSoq",
        "colab": {
          "base_uri": "https://localhost:8080/"
        },
        "outputId": "1d331c44-c50d-4f91-b91c-7a7279b2ff41"
      },
      "execution_count": 8,
      "outputs": [
        {
          "output_type": "stream",
          "name": "stdout",
          "text": [
            "[[12.0, 1641.0], [4.0, 214.0], [0.0, 1.0], [1.0, 24.0], [0.0, 32.0], [0.0, 4.0], [0.0, 3.0], [0.0, 19.0], [0.0, 0.0], [0.0, 19.0], [0.0, 18.0], [0.0, 1.0], [0.0, 54.0], [2.0, 33.0], [0.0, 1.0], [1.0, 7.0], [0.0, 4.0], [0.0, 20.0], [0.0, 6.0], [0.0, 18.0], [0.0, 2.0], [0.0, 6.0], [0.0, 1.0], [0.0, 4.0], [0.0, 1.0], [0.0, 0.7238805970000001], [0.0, 0.8], [0.0, 1.0], [0.0, 1.0], [0.0, 1.0], [0.0, 1.0], [0.0, 1.0], [1.0, 3.0], [0.0, 1.0], [0.0, 1.0], [0.0, 1.0], [0.0, 1.0], [0.0, 6.0], [0.0, 1.0], [1.0, 96.0], [0.0, 145.0], [1.0, 31.0], [1.0, 39.0], [0.0, 40.0], [2.0, 829.0], [1.0, 61.0], [0.0, 829.0], [2.0, 106.5], [1.0, 39.0], [0.0, 206.0], [0.0, 10.0], [0.0, 1.0], [0.0, 1.0], [0.0, 1.0], [0.0, 1.0], [0.0, 2.0], [0.0, 4659.0], [0.0, 1.0], [0.0, 1.0], [0.0, 0.0], [0.0, 124.0], [0.0, 0.0], [0.0, 2.0], [0.0, 0.0], [0.0, 1.0], [0.0, 1.0], [0.0, 1.0], [0.0, 100.0], [0.0, 0.0], [0.0, 100.0], [0.0, 100.0], [0.0, 0.0], [0.0, 1.0], [0.0, 1.0], [0.0, 100.0], [0.0, 1.0], [0.0, 1.0], [0.0, 1.0], [0.0, 1.0], [0.0, 1.0], [0.0, 1.0], [-1.0, 29829.0], [-12.0, 12874.0], [0.0, 10745722.0], [0.0, 1.0], [0.0, 1.0], [0.0, 10.0]]\n",
            "[([(85, 0.5, 'l')], 1), ([(85, 0.5, 'r'), (78, 0.5, 'r')], 0), ([(85, 0.5, 'r'), (78, 0.5, 'l'), (20, 1.0, 'r')], 1), ([(85, 0.5, 'r'), (78, 0.5, 'l'), (20, 1.0, 'l'), (20, 0.5, 'r')], 1), ([(85, 0.5, 'r'), (78, 0.5, 'l'), (20, 1.0, 'l'), (20, 0.5, 'l'), (51, 0.5, 'l')], 0), ([(85, 0.5, 'r'), (78, 0.5, 'l'), (20, 1.0, 'l'), (20, 0.5, 'l'), (51, 0.5, 'r'), (58, 0.5, 'l')], 1), ([(85, 0.5, 'r'), (78, 0.5, 'l'), (20, 1.0, 'l'), (20, 0.5, 'l'), (51, 0.5, 'r'), (58, 0.5, 'r'), (24, 0.5, 'r')], 1), ([(85, 0.5, 'r'), (78, 0.5, 'l'), (20, 1.0, 'l'), (20, 0.5, 'l'), (51, 0.5, 'r'), (58, 0.5, 'r'), (24, 0.5, 'l'), (82, 6431.0, 'r')], 0), ([(85, 0.5, 'r'), (78, 0.5, 'l'), (20, 1.0, 'l'), (20, 0.5, 'l'), (51, 0.5, 'r'), (58, 0.5, 'r'), (24, 0.5, 'l'), (82, 6431.0, 'l'), (2, 0.5, 'r')], 0), ([(85, 0.5, 'r'), (78, 0.5, 'l'), (20, 1.0, 'l'), (20, 0.5, 'l'), (51, 0.5, 'r'), (58, 0.5, 'r'), (24, 0.5, 'l'), (82, 6431.0, 'l'), (2, 0.5, 'l')], 1)]\n"
          ]
        }
      ]
    },
    {
      "cell_type": "code",
      "source": [
        "import random\n",
        "max_acc=[0,[]]\n",
        "\n",
        "for w in range(1):\n",
        "\n",
        "  d5=[[],[],[],[],[],[],[],[]]\n",
        "  l5=[[],[],[],[],[],[],[],[]]\n",
        "  # for i in range(len(all_lab)):\n",
        "  #   for j in range(5):\n",
        "  #     idx=random.randint(0,len(all_lab)-1)\n",
        "  #     d5[j].append(all_data[idx]);\n",
        "  #     l5[j].append(all_lab[idx]);\n",
        "  ids=[i for  i in range(len(y_train))]\n",
        "  for i in range(8):\n",
        "    idxs=random.choices(ids,k=len(y_train))\n",
        "    d5[i]=[X_train[j] for j in idxs]\n",
        "    l5[i]=[y_train[j] for j in idxs]\n",
        "  print(len(d5[0]),len(d5[1]),len(d5[2]),len(d5[3]),len(d5[4]))\n",
        "\n",
        "  trees=[]\n",
        "  for j in range(8):\n",
        "    d=d5[j]\n",
        "    d=np.array(d)\n",
        "    dT=d.T\n",
        "    regions=[]\n",
        "    for i in range(len(dT)):\n",
        "      regions.append([min(dT[i]),max(dT[i])])\n",
        "    # print(regions)\n",
        "    tree=[]\n",
        "\n",
        "    learn_tree(dT,d,d,12,l5[j],len(dT),regions,tree,[])\n",
        "\n",
        "    trees.append(tree)\n",
        "  # test=[]\n",
        "  # test_labls=[]\n",
        "\n",
        "  # corrects=[0,0]\n",
        "  # totals=[0,0]\n",
        "  # print(len(y_test))\n",
        "  # for i in range(len(y_test)):\n",
        "  #   cl=[0,0,0]\n",
        "  #   for j in range(5):\n",
        "  #     cl[find_class(trees[j],X_test[i])]+=1\n",
        "  #   # print(cl)\n",
        "  #   freq=0\n",
        "  #   id=-1\n",
        "  #   for j in range(3):\n",
        "  #     if cl[j]>freq:\n",
        "  #       freq=cl[j]\n",
        "  #       id=j\n",
        "\n",
        "  #   if y_test[i]==id:\n",
        "  #     corrects[y_test[i]]+=1\n",
        "  #   totals[y_test[i]]+=1\n",
        "\n",
        "  # print(sum(corrects)/sum(totals))\n",
        "\n",
        "\n",
        "\n",
        "\n",
        "\n",
        "\n",
        "\n",
        "\n"
      ],
      "metadata": {
        "id": "sNItHEBTnms0",
        "outputId": "c6d29df1-83ff-47c0-93b3-e1b846529b4a",
        "colab": {
          "base_uri": "https://localhost:8080/"
        }
      },
      "execution_count": 9,
      "outputs": [
        {
          "output_type": "stream",
          "name": "stdout",
          "text": [
            "9144 9144 9144 9144 9144\n"
          ]
        }
      ]
    },
    {
      "cell_type": "code",
      "source": [
        "corrects=[0,0]\n",
        "totals=[0,0]\n",
        "print(len(y_test))\n",
        "for i in range(len(y_test)):\n",
        "  cl=[0,0,0]\n",
        "  for j in range(7):\n",
        "    cl[find_class(trees[j],X_test[i])]+=1\n",
        "  # print(cl)\n",
        "  freq=0\n",
        "  id=-1\n",
        "  for j in range(3):\n",
        "    if cl[j]>freq:\n",
        "      freq=cl[j]\n",
        "      id=j\n",
        "  if y_test[i]==id:\n",
        "    corrects[y_test[i]]+=1\n",
        "  totals[y_test[i]]+=1\n",
        "\n",
        "tp=corrects[0]\n",
        "fp=totals[1]-corrects[1]\n",
        "fn=totals[0]-corrects[0]\n",
        "tn=corrects[1]\n",
        "precision=tp/(tp+fp)\n",
        "recall=tp/(tp+fn)\n",
        "print(\"Precision:\",precision*100,\"%\")\n",
        "print(\"Recall:\",recall*100,\"%\")\n",
        "print(\"F1-Score:\",100*2*precision*recall/(precision+recall),\"%\")\n",
        "print(\"Accuracy:\",100*(tp+tn)/len(y_test),\"%\")\n",
        "print(sum(corrects)/sum(totals))\n"
      ],
      "metadata": {
        "id": "eLY8Fzd3vfeM",
        "outputId": "3483987e-9510-410d-d513-60b679515e25",
        "colab": {
          "base_uri": "https://localhost:8080/"
        }
      },
      "execution_count": 10,
      "outputs": [
        {
          "output_type": "stream",
          "name": "stdout",
          "text": [
            "2286\n",
            "Precision: 88.87923544743701 %\n",
            "Recall: 89.501312335958 %\n",
            "F1-Score: 89.1891891891892 %\n",
            "Accuracy: 89.15135608048993 %\n",
            "0.8915135608048994\n"
          ]
        }
      ]
    }
  ]
}