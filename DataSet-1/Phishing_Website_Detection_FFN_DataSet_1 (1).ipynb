{
  "nbformat": 4,
  "nbformat_minor": 0,
  "metadata": {
    "colab": {
      "provenance": []
    },
    "kernelspec": {
      "name": "python3",
      "display_name": "Python 3"
    },
    "language_info": {
      "name": "python"
    }
  },
  "cells": [
    {
      "cell_type": "code",
      "execution_count": 1,
      "metadata": {
        "colab": {
          "base_uri": "https://localhost:8080/"
        },
        "id": "R1vpLvc1Gqsa",
        "outputId": "3eb066a1-3f94-4fde-d632-ffdd1250d31e"
      },
      "outputs": [
        {
          "output_type": "stream",
          "name": "stdout",
          "text": [
            "   length_url  length_hostname  ip  nb_dots  nb_hyphens  nb_at  nb_qm  nb_and  \\\n",
            "0          37               19   0        3           0      0      0       0   \n",
            "1          77               23   1        1           0      0      0       0   \n",
            "2         126               50   1        4           1      0      1       2   \n",
            "3          18               11   0        2           0      0      0       0   \n",
            "4          55               15   0        2           2      0      0       0   \n",
            "\n",
            "   nb_or  nb_eq  ...  domain_in_title  domain_with_copyright  \\\n",
            "0      0      0  ...                0                      1   \n",
            "1      0      0  ...                1                      0   \n",
            "2      0      3  ...                1                      0   \n",
            "3      0      0  ...                1                      0   \n",
            "4      0      0  ...                0                      1   \n",
            "\n",
            "   whois_registered_domain  domain_registration_length  domain_age  \\\n",
            "0                        0                          45          -1   \n",
            "1                        0                          77        5767   \n",
            "2                        0                          14        4004   \n",
            "3                        0                          62          -1   \n",
            "4                        0                         224        8175   \n",
            "\n",
            "   web_traffic  dns_record  google_index  page_rank      status  \n",
            "0            0           1             1          4  legitimate  \n",
            "1            0           0             1          2    phishing  \n",
            "2      5828815           0             1          0    phishing  \n",
            "3       107721           0             0          3  legitimate  \n",
            "4         8725           0             0          6  legitimate  \n",
            "\n",
            "[5 rows x 88 columns]\n"
          ]
        }
      ],
      "source": [
        "import matplotlib.pyplot as plt\n",
        "import numpy as np\n",
        "import pandas as pd\n",
        "from sklearn.preprocessing import StandardScaler\n",
        "from sklearn.metrics import accuracy_score\n",
        "from tensorflow.keras.models import Sequential\n",
        "from tensorflow.keras.layers import Dense\n",
        "from sklearn.metrics import precision_score, recall_score, f1_score\n",
        "\n",
        "data=pd.read_csv('/content/drive/MyDrive/datasets/dataset_B_05_2020.csv')\n",
        "data=data.drop(['url'],axis=1)\n",
        "print(data.head())\n",
        "\n",
        "# x=np.array(data.drop(['status'],axis=1))\n",
        "# y=data['status']\n",
        "# y=[1 if y[i]=='legitimate' else -1 for i in range(len(y))]\n",
        "# y=np.array(y)\n",
        "# print(len(x[y==1]),len(x[y==-1]))\n",
        "# train_x=x[y==1][1000:]\n",
        "# train_x=np.append(train_x,x[y==-1][1000:],axis=0)\n",
        "# train_y=x[y==0][1000:]\n"
      ]
    },
    {
      "cell_type": "code",
      "source": [
        "from sklearn.model_selection import train_test_split\n",
        "X_train, X_test, y_train, y_test = train_test_split(data.drop('status', axis=1), data['status'], test_size=0.2, random_state=42, stratify=data['status'])\n"
      ],
      "metadata": {
        "id": "gwehGBQoG5Pv"
      },
      "execution_count": 2,
      "outputs": []
    },
    {
      "cell_type": "code",
      "source": [
        "print(\"Train set shape:\", X_train.shape, X_test.shape)\n",
        "y_train=np.array(y_train)\n",
        "y_test=np.array(y_test)\n",
        "y_train=np.array([1 if y_train[i]=='legitimate' else 0 for i in range(len(y_train))])\n",
        "y_test=np.array([1 if y_test[i]=='legitimate' else 0 for i in range(len(y_test))])\n",
        "X_train=np.array(X_train)\n",
        "\n",
        "X_test=np.array(X_test)\n",
        "print(\"Test set shape:\",y_train.shape, y_test.shape)\n",
        "print(\"Train set shape:\", X_train.shape, X_test.shape)\n"
      ],
      "metadata": {
        "colab": {
          "base_uri": "https://localhost:8080/"
        },
        "id": "722M0TWEG97v",
        "outputId": "14448803-2a34-4f3d-f571-56740a45e526"
      },
      "execution_count": 3,
      "outputs": [
        {
          "output_type": "stream",
          "name": "stdout",
          "text": [
            "Train set shape: (9144, 87) (2286, 87)\n",
            "Test set shape: (9144,) (2286,)\n",
            "Train set shape: (9144, 87) (2286, 87)\n"
          ]
        }
      ]
    },
    {
      "cell_type": "code",
      "source": [
        "# Standardize features\n",
        "scaler = StandardScaler()\n",
        "X_train = scaler.fit_transform(X_train)\n",
        "X_test = scaler.transform(X_test)\n",
        "\n",
        "# Build the FNN model\n",
        "model = Sequential([\n",
        "    Dense(128, activation='relu', input_shape=(X_train.shape[1],)),\n",
        "    Dense(64, activation='relu'),\n",
        "    Dense(1, activation='sigmoid')\n",
        "])\n",
        "\n",
        "# Compile the model\n",
        "model.compile(optimizer='adam', loss='binary_crossentropy', metrics=['accuracy'])\n",
        "\n",
        "# Train the model\n",
        "model.fit(X_train, y_train, epochs=8, batch_size=32, verbose=1)\n",
        "\n",
        "# Evaluate the model\n",
        "loss, accuracy = model.evaluate(X_test, y_test)\n",
        "print(f'Test Accuracy: {accuracy}')\n",
        "\n",
        "# Make predictions\n",
        "predictions = model.predict(X_test)\n",
        "predictions = np.round(predictions).flatten()\n",
        "\n",
        "# Calculate accuracy\n",
        "accuracy = accuracy_score(y_test, predictions)\n",
        "print(f'Accuracy: {accuracy}')\n",
        "# Calculate precision\n",
        "precision = precision_score(y_test, predictions)\n",
        "print(f'Precision: {precision}')\n",
        "\n",
        "# Calculate recall\n",
        "recall = recall_score(y_test, predictions)\n",
        "print(f'Recall: {recall}')\n",
        "\n",
        "# Calculate F1 score\n",
        "f1 = f1_score(y_test, predictions)\n",
        "print(f'F1 Score: {f1}')"
      ],
      "metadata": {
        "colab": {
          "base_uri": "https://localhost:8080/"
        },
        "id": "npzJrSr3HJiw",
        "outputId": "b44b2752-b1e6-4843-e8d1-3230ad64056a"
      },
      "execution_count": 4,
      "outputs": [
        {
          "output_type": "stream",
          "name": "stdout",
          "text": [
            "Epoch 1/8\n",
            "286/286 [==============================] - 1s 2ms/step - loss: 0.1862 - accuracy: 0.9330\n",
            "Epoch 2/8\n",
            "286/286 [==============================] - 1s 2ms/step - loss: 0.1126 - accuracy: 0.9587\n",
            "Epoch 3/8\n",
            "286/286 [==============================] - 1s 2ms/step - loss: 0.0974 - accuracy: 0.9641\n",
            "Epoch 4/8\n",
            "286/286 [==============================] - 1s 2ms/step - loss: 0.0849 - accuracy: 0.9703\n",
            "Epoch 5/8\n",
            "286/286 [==============================] - 1s 2ms/step - loss: 0.0752 - accuracy: 0.9727\n",
            "Epoch 6/8\n",
            "286/286 [==============================] - 1s 2ms/step - loss: 0.0659 - accuracy: 0.9765\n",
            "Epoch 7/8\n",
            "286/286 [==============================] - 1s 2ms/step - loss: 0.0601 - accuracy: 0.9788\n",
            "Epoch 8/8\n",
            "286/286 [==============================] - 1s 2ms/step - loss: 0.0506 - accuracy: 0.9820\n",
            "72/72 [==============================] - 0s 2ms/step - loss: 0.1430 - accuracy: 0.9558\n",
            "Test Accuracy: 0.9558179974555969\n",
            "72/72 [==============================] - 0s 2ms/step\n",
            "Accuracy: 0.9558180227471567\n",
            "Precision: 0.9635231316725978\n",
            "Recall: 0.94750656167979\n",
            "F1 Score: 0.9554477282752536\n"
          ]
        }
      ]
    }
  ]
}