{
  "nbformat": 4,
  "nbformat_minor": 0,
  "metadata": {
    "colab": {
      "provenance": []
    },
    "kernelspec": {
      "name": "python3",
      "display_name": "Python 3"
    },
    "language_info": {
      "name": "python"
    }
  },
  "cells": [
    {
      "cell_type": "code",
      "execution_count": null,
      "metadata": {
        "colab": {
          "base_uri": "https://localhost:8080/"
        },
        "id": "msUKALlPKpV5",
        "outputId": "e7338bd7-44fc-40ea-d247-f240ba2390c4"
      },
      "outputs": [
        {
          "output_type": "stream",
          "name": "stdout",
          "text": [
            "   qty_dot_url  qty_hyphen_url  qty_underline_url  qty_slash_url  \\\n",
            "0            2               0                  0              0   \n",
            "1            4               0                  0              2   \n",
            "2            1               0                  0              1   \n",
            "3            2               0                  0              3   \n",
            "4            1               1                  0              4   \n",
            "\n",
            "   qty_questionmark_url  qty_equal_url  qty_at_url  qty_and_url  \\\n",
            "0                     0              0           0            0   \n",
            "1                     0              0           0            0   \n",
            "2                     0              0           0            0   \n",
            "3                     0              0           0            0   \n",
            "4                     0              0           0            0   \n",
            "\n",
            "   qty_exclamation_url  qty_space_url  ...  qty_ip_resolved  qty_nameservers  \\\n",
            "0                    0              0  ...                1                4   \n",
            "1                    0              0  ...                1                4   \n",
            "2                    0              0  ...                1                2   \n",
            "3                    0              0  ...                1                2   \n",
            "4                    0              0  ...                1                2   \n",
            "\n",
            "   qty_mx_servers  ttl_hostname  tls_ssl_certificate  qty_redirects  \\\n",
            "0               2          3598                    0              0   \n",
            "1               1          3977                    1              0   \n",
            "2               1         10788                    0              0   \n",
            "3               1         14339                    1              0   \n",
            "4               1           389                    1              1   \n",
            "\n",
            "   url_google_index  domain_google_index  url_shortened  phishing  \n",
            "0                 0                    0              0         0  \n",
            "1                 0                    0              0         0  \n",
            "2                 0                    0              0         0  \n",
            "3                 0                    0              0         1  \n",
            "4                 0                    0              0         1  \n",
            "\n",
            "[5 rows x 112 columns]\n"
          ]
        }
      ],
      "source": [
        "import matplotlib.pyplot as plt\n",
        "import numpy as np\n",
        "import pandas as pd\n",
        "from sklearn.preprocessing import StandardScaler\n",
        "from sklearn.metrics import accuracy_score\n",
        "from tensorflow.keras.models import Sequential\n",
        "from tensorflow.keras.layers import Dense\n",
        "from sklearn.metrics import precision_score, recall_score, f1_score\n",
        "\n",
        "data=pd.read_csv('/content/drive/MyDrive/datasets/dataset_small.csv')\n",
        "# data=data.drop(['URL','FILENAME','TLD','Title','Domain'],axis=1)\n",
        "print(data.head())\n"
      ]
    },
    {
      "cell_type": "code",
      "source": [
        "from sklearn.model_selection import train_test_split\n",
        "X_train, X_test, y_train, y_test = train_test_split(data.drop('phishing', axis=1), data['phishing'], test_size=0.5, random_state=42, stratify=data['phishing'])\n"
      ],
      "metadata": {
        "id": "fhHkbvF9K0JX"
      },
      "execution_count": null,
      "outputs": []
    },
    {
      "cell_type": "code",
      "source": [
        "print(\"Train set shape:\", X_train.shape, X_test.shape)\n",
        "y_train=np.array(y_train)\n",
        "y_test=np.array(y_test)\n",
        "\n",
        "X_train=np.array(X_train)\n",
        "X_test=np.array(X_test)\n",
        "print(\"Test set shape:\",y_train.shape, y_test.shape)\n",
        "print(\"Train set shape:\", X_train.shape, X_test.shape)\n",
        "print(y_train,y_test)"
      ],
      "metadata": {
        "colab": {
          "base_uri": "https://localhost:8080/"
        },
        "collapsed": true,
        "id": "R2pBbvIbK8u5",
        "outputId": "17cd09ca-a652-44e6-fa72-782d2d2c9927"
      },
      "execution_count": null,
      "outputs": [
        {
          "output_type": "stream",
          "name": "stdout",
          "text": [
            "Train set shape: (29322, 111) (29323, 111)\n",
            "Test set shape: (29322,) (29323,)\n",
            "Train set shape: (29322, 111) (29323, 111)\n",
            "[0 1 0 ... 1 0 0] [1 1 1 ... 1 0 1]\n"
          ]
        }
      ]
    },
    {
      "cell_type": "code",
      "source": [
        "# Standardize features\n",
        "scaler = StandardScaler()\n",
        "X_train = scaler.fit_transform(X_train)\n",
        "X_test = scaler.transform(X_test)\n",
        "\n",
        "# Build the FNN model\n",
        "model = Sequential([\n",
        "    Dense(128, activation='relu', input_shape=(X_train.shape[1],)),\n",
        "    Dense(64, activation='relu'),\n",
        "    Dense(1, activation='sigmoid')\n",
        "])\n",
        "\n",
        "# Compile the model\n",
        "model.compile(optimizer='adam', loss='binary_crossentropy', metrics=['accuracy'])\n",
        "\n",
        "# Train the model\n",
        "model.fit(X_train, y_train, epochs=8, batch_size=32, verbose=1)\n",
        "\n",
        "# Evaluate the model\n",
        "loss, accuracy = model.evaluate(X_test, y_test)\n",
        "print(f'Test Accuracy: {accuracy}')\n",
        "\n",
        "# Make predictions\n",
        "predictions = model.predict(X_test)\n",
        "predictions = np.round(predictions).flatten()\n",
        "\n",
        "# Calculate accuracy\n",
        "accuracy = accuracy_score(y_test, predictions)\n",
        "print(f'Accuracy: {accuracy}')\n",
        "# Calculate precision\n",
        "precision = precision_score(y_test, predictions)\n",
        "print(f'Precision: {precision}')\n",
        "\n",
        "# Calculate recall\n",
        "recall = recall_score(y_test, predictions)\n",
        "print(f'Recall: {recall}')\n",
        "\n",
        "# Calculate F1 score\n",
        "f1 = f1_score(y_test, predictions)\n",
        "print(f'F1 Score: {f1}')"
      ],
      "metadata": {
        "colab": {
          "base_uri": "https://localhost:8080/"
        },
        "id": "hs_FeX5zLLtm",
        "outputId": "b905563a-bb44-4467-933d-e7a143eac9da"
      },
      "execution_count": null,
      "outputs": [
        {
          "output_type": "stream",
          "name": "stdout",
          "text": [
            "Epoch 1/8\n",
            "917/917 [==============================] - 3s 2ms/step - loss: 0.2346 - accuracy: 0.9015\n",
            "Epoch 2/8\n",
            "917/917 [==============================] - 2s 2ms/step - loss: 0.1912 - accuracy: 0.9242\n",
            "Epoch 3/8\n",
            "917/917 [==============================] - 2s 3ms/step - loss: 0.1759 - accuracy: 0.9316\n",
            "Epoch 4/8\n",
            "917/917 [==============================] - 3s 3ms/step - loss: 0.1653 - accuracy: 0.9350\n",
            "Epoch 5/8\n",
            "917/917 [==============================] - 2s 2ms/step - loss: 0.1588 - accuracy: 0.9389\n",
            "Epoch 6/8\n",
            "917/917 [==============================] - 2s 2ms/step - loss: 0.1516 - accuracy: 0.9410\n",
            "Epoch 7/8\n",
            "917/917 [==============================] - 2s 2ms/step - loss: 0.1466 - accuracy: 0.9436\n",
            "Epoch 8/8\n",
            "917/917 [==============================] - 2s 2ms/step - loss: 0.1429 - accuracy: 0.9440\n",
            "917/917 [==============================] - 2s 2ms/step - loss: 0.1751 - accuracy: 0.9334\n",
            "Test Accuracy: 0.9333629012107849\n",
            "917/917 [==============================] - 2s 2ms/step\n",
            "Accuracy: 0.9333628891996044\n",
            "Precision: 0.9190697091273822\n",
            "Recall: 0.956734534064213\n",
            "F1 Score: 0.9375239800485996\n"
          ]
        }
      ]
    }
  ]
}